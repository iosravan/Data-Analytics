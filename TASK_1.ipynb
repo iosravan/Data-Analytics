{
  "nbformat": 4,
  "nbformat_minor": 0,
  "metadata": {
    "colab": {
      "name": "NUNAM.ipynb",
      "provenance": [],
      "collapsed_sections": []
    },
    "kernelspec": {
      "name": "python3",
      "display_name": "Python 3"
    },
    "language_info": {
      "name": "python"
    }
  },
  "cells": [
    {
      "cell_type": "markdown",
      "metadata": {
        "id": "osk75c6SL8Zs"
      },
      "source": [
        "# 1"
      ]
    },
    {
      "cell_type": "code",
      "metadata": {
        "id": "7owdrmFTKRje"
      },
      "source": [
        "import pandas as pd\n",
        "import numpy as np\n",
        "import os, collections, csv\n",
        "import cProfile\n"
      ],
      "execution_count": 23,
      "outputs": []
    },
    {
      "cell_type": "code",
      "metadata": {
        "colab": {
          "base_uri": "https://localhost:8080/"
        },
        "id": "IXgs6cmK-hAR",
        "outputId": "00f731ec-ad9e-4af8-9c0e-a5cfa8bb0c05"
      },
      "source": [
        "from google.colab import drive\n",
        "drive.mount('/content/drive')"
      ],
      "execution_count": 2,
      "outputs": [
        {
          "output_type": "stream",
          "text": [
            "Mounted at /content/drive\n"
          ],
          "name": "stdout"
        }
      ]
    },
    {
      "cell_type": "code",
      "metadata": {
        "id": "oJngjIcd_UfS"
      },
      "source": [
        "#df1 = pd.read_excel('/content/drive/My Drive/data.xlsx')\n",
        "#df2 = pd.read_excel('/content/drive/My Drive/data_1.xlsx')\n"
      ],
      "execution_count": 14,
      "outputs": []
    },
    {
      "cell_type": "code",
      "metadata": {
        "id": "IZl5cdML_1XD"
      },
      "source": [
        "df1 = pd.read_excel('/content/drive/My Drive/data.xlsx', sheet_name ='Detail_67_1_1')\n",
        "df2 = pd.read_excel('/content/drive/My Drive/data.xlsx', sheet_name ='Detail_67_1_1_1')\n",
        "df3 = pd.read_excel('/content/drive/My Drive/data.xlsx', sheet_name ='Detail_67_1_1_2')\n",
        "df4 = pd.read_excel('/content/drive/My Drive/data.xlsx', sheet_name ='Detail_67_1_1_3')\n",
        "df5 = pd.read_excel('/content/drive/My Drive/data.xlsx', sheet_name ='Detail_67_1_1_4')\n",
        "df6 = pd.read_excel('/content/drive/My Drive/data.xlsx', sheet_name ='Detail_67_1_1_5')\n",
        "df7 = pd.read_excel('/content/drive/My Drive/data.xlsx', sheet_name ='Detail_67_1_1_6')\n"
      ],
      "execution_count": 45,
      "outputs": []
    },
    {
      "cell_type": "code",
      "metadata": {
        "colab": {
          "base_uri": "https://localhost:8080/"
        },
        "id": "zMhdSQebaQZT",
        "outputId": "214064a3-106b-42b9-f3ea-e27e2200570f"
      },
      "source": [
        "frames1 = [df1, df2, df3, df4, df5, df6, df7]\n",
        "final_df = pd.concat(frames1)\n",
        "final_df.to_csv('detail.csv')\n",
        "print(\"CSV file :'detail.csv' created\")"
      ],
      "execution_count": 46,
      "outputs": [
        {
          "output_type": "stream",
          "text": [
            "CSV file :'detail.csv' created\n"
          ],
          "name": "stdout"
        }
      ]
    },
    {
      "cell_type": "code",
      "metadata": {
        "colab": {
          "base_uri": "https://localhost:8080/"
        },
        "id": "7QHuuQVGY6wB",
        "outputId": "24790373-9b9b-4a61-9ae8-d3c6fa7b837a"
      },
      "source": [
        "frames2 = [df1, df2, df3, df4, df5, df6, df7]\n",
        "final_df = pd.concat(frames2)\n",
        "final_df.to_csv('detailvol.csv')\n",
        "print(\"CSV file :'detailvol.csv' created\")"
      ],
      "execution_count": 41,
      "outputs": [
        {
          "output_type": "stream",
          "text": [
            "CSV file :'detailvol.csv' created\n"
          ],
          "name": "stdout"
        }
      ]
    },
    {
      "cell_type": "code",
      "metadata": {
        "colab": {
          "base_uri": "https://localhost:8080/"
        },
        "id": "ehJE1uAzZY2j",
        "outputId": "965e1048-f277-4241-8c3c-f7ccb3bbe76d"
      },
      "source": [
        "frames3 = [df1, df2, df3, df4, df5, df6, df7]\n",
        "final_df = pd.concat(frames3)\n",
        "final_df.to_csv('detailtemp.csv')\n",
        "print(\"CSV file :'detailtemp.csv' created\")"
      ],
      "execution_count": 42,
      "outputs": [
        {
          "output_type": "stream",
          "text": [
            "CSV file :'detailtemp.csv' created\n"
          ],
          "name": "stdout"
        }
      ]
    }
  ]
}