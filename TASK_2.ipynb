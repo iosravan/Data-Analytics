{
  "nbformat": 4,
  "nbformat_minor": 0,
  "metadata": {
    "colab": {
      "name": "TASK2.ipynb",
      "provenance": []
    },
    "kernelspec": {
      "name": "python3",
      "display_name": "Python 3"
    },
    "language_info": {
      "name": "python"
    }
  },
  "cells": [
    {
      "cell_type": "code",
      "metadata": {
        "id": "G6GsaxxpKlP6"
      },
      "source": [
        "import pandas as pd\n",
        "import numpy as np\n",
        "import os, collections, csv\n",
        "import cProfile\n"
      ],
      "execution_count": null,
      "outputs": []
    },
    {
      "cell_type": "code",
      "metadata": {
        "id": "NPaMmxaDJt0A"
      },
      "source": [
        "#DetailDownsampled\n",
        "df = pd.read_csv('/content/detail.csv', parse_dates = [\"Absolute Time\"], index_col = \"Absolute Time\")\n",
        "df = df.resample('T').mean()\n",
        "df.to_csv('detailDownsampled.csv')\n"
      ],
      "execution_count": null,
      "outputs": []
    },
    {
      "cell_type": "code",
      "metadata": {
        "id": "AFvD2M6cKH_X"
      },
      "source": [
        "#detailVolDownsampled\n",
        "df = pd.read_csv('/content/detailvol.csv', parse_dates = [\"Relative Time(h:min:s.ms)\"], index_col = \"Relative Time(h:min:s.ms)\")\n",
        "df = df.resample('T').mean()\n",
        "df.to_csv('detailVolDownsampled.csv')\n"
      ],
      "execution_count": null,
      "outputs": []
    },
    {
      "cell_type": "code",
      "metadata": {
        "id": "34tJA1yeKJ9U"
      },
      "source": [
        "df = pd.read_csv('/content/detailtemp.csv', parse_dates = [\"Relative Time(h:min:s.ms)\"], index_col = \"Relative Time(h:min:s.ms)\")\n",
        "df = df.resample('T').mean()\n",
        "df.to_csv('detailTempDownsampled.csv')\n"
      ],
      "execution_count": null,
      "outputs": []
    }
  ]
}